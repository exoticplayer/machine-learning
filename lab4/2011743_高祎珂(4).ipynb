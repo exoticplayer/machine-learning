{
 "cells": [
  {
   "cell_type": "markdown",
   "metadata": {},
   "source": [
    "\n",
    "<h1 id=\"实验要求\">实验要求<a class=\"anchor-link\" href=\"#实验要求\">¶</a></h1><h3 id=\"截止日期：11月18日\">截止日期：11月18日<a class=\"anchor-link\" href=\"#截止日期：11月18日\">¶</a></h3><p>作业的提交格式参考之前的说明，提交到2120220594@nankai.edu.cn</p>\n",
    "<h3 id=\"基本要求\">基本要求<a class=\"anchor-link\" href=\"#基本要求\">¶</a></h3><p>a)  采用分层采样的方式将数据集划分为训练集和测试集。 \n",
    "b)  给定编写一个朴素贝叶斯分类器，对测试集进行预测，计算分类准确率。</p>\n",
    "<h3 id=\"中级要求\">中级要求<a class=\"anchor-link\" href=\"#中级要求\">¶</a></h3><p>使用测试集评估模型，得到混淆矩阵，精度，召回率，F值。</p>\n",
    "<h3 id=\"高级要求\">高级要求<a class=\"anchor-link\" href=\"#高级要求\">¶</a></h3><p>在中级要求的基础上画出三类数据的ROC曲线，并求出AUC值。</p>\n"
   ]
  },
  {
   "cell_type": "markdown",
   "metadata": {},
   "source": [
    "\n",
    "<h2 id=\"分类原理——贝叶斯定理\">分类原理——贝叶斯定理<a class=\"anchor-link\" href=\"#分类原理——贝叶斯定理\">¶</a></h2><p><img align=\"left\" src=\"https://s2.loli.net/2022/10/23/B1YpEChVwO78rlM.png\" style=\"zoom:46%\"/></p>\n"
   ]
  },
  {
   "cell_type": "markdown",
   "metadata": {},
   "source": [
    "\n",
    "<h2 id=\"分类原理——贝叶斯定理\">分类原理——贝叶斯定理<a class=\"anchor-link\" href=\"#分类原理——贝叶斯定理\">¶</a></h2><p><img align=\"left\" src=\"https://s2.loli.net/2022/10/23/FDEIoA4W5YVStPq.png\" style=\"zoom:52%\"/>\n",
    "<img align=\"left\" src=\"https://s2.loli.net/2022/10/23/hrLPV28JuZ67ewO.png\" style=\"zoom:54%\"/></p>\n"
   ]
  },
  {
   "cell_type": "markdown",
   "metadata": {},
   "source": [
    "\n",
    "<h2 id=\"分类原理——朴素贝叶斯理论\">分类原理——朴素贝叶斯理论<a class=\"anchor-link\" href=\"#分类原理——朴素贝叶斯理论\">¶</a></h2><p><img align=\"left\" src=\"https://s2.loli.net/2022/10/23/hrLPV28JuZ67ewO.png\" style=\"zoom:50%\"/>\n",
    "<img align=\"left\" src=\"https://s2.loli.net/2022/10/23/EWpXI3mOCfcLtzx.png\" style=\"zoom:50%\"/></p>\n"
   ]
  },
  {
   "cell_type": "markdown",
   "metadata": {},
   "source": [
    "\n",
    "<h2 id=\"优缺点\">优缺点<a class=\"anchor-link\" href=\"#优缺点\">¶</a></h2><ul>\n",
    "<li>优点：计算简单、有稳定的分类效率</li>\n",
    "<li>缺点：<ul>\n",
    "<li>需要估计类别的先验概率，且先验概率很多时候取决于假设，假设的模型可以有很多种，因此在某些时候会由于假设的先验模型不准确导致预测效果不佳。（通过目标值在训练数据中的频率来估计）。</li>\n",
    "<li>假设属性之间相互独立，这个假设在实际应用中往往是不成立的，在属性个数比较多或者属性之间相关性较大时，分类效果不好。而在属性相关性较小时，朴素贝叶斯性能最为良好；</li>\n",
    "</ul>\n",
    "</li>\n",
    "</ul>\n"
   ]
  },
  {
   "cell_type": "markdown",
   "metadata": {},
   "source": [
    "\n",
    "<h2 id=\"实例\">实例<a class=\"anchor-link\" href=\"#实例\">¶</a></h2><p><img align=\"left\" src=\"https://s2.loli.net/2022/10/23/RTNn6U2MWgH3IAF.png\" style=\"zoom:48%\"/>\n",
    "<img align=\"left\" src=\"https://s2.loli.net/2022/10/23/yOWLSs7jJZl1XaY.png\" style=\"zoom:52%\"/></p>\n"
   ]
  },
  {
   "cell_type": "markdown",
   "metadata": {},
   "source": [
    "\n",
    "<h2 id=\"混淆矩阵\">混淆矩阵<a class=\"anchor-link\" href=\"#混淆矩阵\">¶</a></h2><p><img align=\"left\" src=\"https://s2.loli.net/2022/10/23/KTWIOGnDPCVHXNx.png\" style=\"zoom:66%\"/></p>\n"
   ]
  },
  {
   "cell_type": "markdown",
   "metadata": {},
   "source": [
    "\n",
    "<h2 id=\"ROC曲线和AUC\">ROC曲线和AUC<a class=\"anchor-link\" href=\"#ROC曲线和AUC\">¶</a></h2><p><img align=\"left\" src=\"https://s2.loli.net/2022/10/23/PA1JMTjqca78CvU.png\" style=\"zoom:68%\"/></p>\n"
   ]
  },
  {
   "cell_type": "markdown",
   "metadata": {},
   "source": [
    "# 初级要求\n",
    "a)  采用分层采样的方式将数据集划分为训练集和测试集。 \n",
    "b)  给定编写一个朴素贝叶斯分类器，对测试集进行预测，计算分类准确率。"
   ]
  },
  {
   "cell_type": "code",
   "execution_count": 21,
   "metadata": {},
   "outputs": [],
   "source": [
    "\n",
    "# -*- coding: UTF-8 -*-\n",
    "# 在wine数据集中，这些数据包括了三种酒中13种不同成分的数量。\n",
    "# 文件中，每行代表一种酒的样本，共有178个样本；\n",
    "# 一共有14列，其中，第一个属性是类标识符，分别是1/2/3 来表示，代表葡萄酒的三个分类。\n",
    "# 后面的13列为每个样本的对应属性的样本值。\n",
    "# 其中第1类有59个样本，第2类有71个样本，第3类有48个样本。\n",
    "# 一个整数label和13个属性值\n",
    "\n",
    "import math\n",
    "import numpy as np  \n",
    "import pandas as pd\n",
    "import random\n",
    "from random import sample\n",
    "\n",
    "f = open('wine.data','r')\n",
    "type_data = [[],[],[]]                      #按类分的所有数据\n",
    "test_data = [[],[],[]]\n",
    "train_data = [[],[],[]]\n",
    "data_num = 0                            #数据总数\n",
    "test_len = []                           #测试集里每一类的个数\n",
    "means = [[],[],[]]                      #每一类的均值\n",
    "std = [[],[],[]]                        #每一类的标准差\n",
    "myline = '1'\n",
    "while myline:\n",
    "    myline = f.readline().split(',')\n",
    "    if len(myline) != 14:\n",
    "        break\n",
    "    # 类别存为int，属性变为float\n",
    "    for t in range(len(myline)):\n",
    "        if t == 0:\n",
    "            myline[t] = int(myline[t])\n",
    "        else:\n",
    "            myline[t] = float(myline[t])\n",
    "    temp = myline.pop(0)\n",
    "    type_data[temp - 1].append(myline)\n",
    "test_len = [round(len(type_data[i]) / 4) for i in range(3)]\n",
    "data_num = sum([len(type_data[i]) for i in range(3)])\n",
    "\n"
   ]
  },
  {
   "cell_type": "code",
   "execution_count": 22,
   "metadata": {},
   "outputs": [],
   "source": [
    "# 分层抽样分割数据集，data为数据集，len为存测试集长度的list\n",
    "def sample_split(data,len_data):\n",
    "    test_data = [[],[],[]]\n",
    "    train_data = [[],[],[]]\n",
    "    for i in range(3):\n",
    "        test_data[i]=sample(data[i],len_data[i])\n",
    "        for temp in test_data[i]:\n",
    "            data[i].remove(temp)\n",
    "        train_data[i]=data[i]\n",
    "    return test_data,train_data"
   ]
  },
  {
   "cell_type": "code",
   "execution_count": 23,
   "metadata": {},
   "outputs": [],
   "source": [
    "# 计算概率\n",
    "def prob(data,avg,sig):\n",
    "    # print(data)\n",
    "    sqrt_2pi=np.power(2*np.pi,0.5)\n",
    "    coef=1/(sqrt_2pi*sig)\n",
    "    powercoef=-1/(2*np.power(sig,2))\n",
    "    mypow=powercoef*(np.power((data-avg),2))\n",
    "    p=coef*(np.exp(mypow))\n",
    "    for i in range(len(p)):\n",
    "        p[i]=math.log(p[i])\n",
    "    return sum(p)"
   ]
  },
  {
   "cell_type": "code",
   "execution_count": 24,
   "metadata": {},
   "outputs": [],
   "source": [
    "def bayes_classificate(data_set,len_data,num):\n",
    "    # print(type(data_set[0]))\n",
    "    # print(len(data_set))\n",
    "    # data_set在运算过程中会变\n",
    "   \n",
    "    # 存预测概率\n",
    "    p_score=[[],[],[]]\n",
    "    # 先验概率\n",
    "    p=[]\n",
    "    for i in range(3):\n",
    "        p.append(len(data_set[i])/num)\n",
    "    # print(p)\n",
    "    test_data,train_data=sample_split(data_set,len_data)\n",
    "    # 首先，分别计算训练集上三个类的均值和标准差\n",
    "    mean=[]\n",
    "    std=[]\n",
    "    # 存储预测得到的值\n",
    "    y_predict=[[],[],[]]\n",
    "    # print(data)\n",
    "    # print(len(data_set[0]))\n",
    "    test_num = sum([len(test_data[i]) for i in range(3)])\n",
    "    \n",
    "    for i in range(3):\n",
    "        train_data[i]=np.array(train_data[i])\n",
    "        mean.append(train_data[i].mean(axis=0))\n",
    "        std.append(np.std(train_data[i], axis=0))\n",
    "        test_data[i]=np.array(test_data[i])\n",
    "    # print(mean)\n",
    "    # print(std)\n",
    "    wrong_num = 0\n",
    "    for i in range(3):\n",
    "        for t in test_data[i]:                  #两层循环：从每一类取每一个测试样本\n",
    "            my_type = []\n",
    "            for j in range(3):\n",
    "                #由于数据集中所有的属性都是连续值，连续值的似然估计可以按照高斯分布来计算：\n",
    "                # temp = ...\n",
    "                # t每一维度算log再相加\n",
    "                temp=prob(t,mean[j],std[j])+len(t)*math.log(p[j])\n",
    "                # print(temp)\n",
    "                my_type.append(temp)                        #这里将所有score保存\n",
    "                # 样本被预测为第j类的概率\n",
    "                p_score[j].append(temp)\n",
    "            pre_type = my_type.index(max(my_type))          #取分值最大的为预测类别\n",
    "            y_predict[i].append(pre_type)\n",
    "            # print(pre_type)\n",
    "            if pre_type != i:                               #统计错误数\n",
    "                wrong_num+=1\n",
    "    error_rate=round(wrong_num/test_num,3)\n",
    "    print(\"分类准确率：{:f}\".format(1-error_rate))\n",
    "    return error_rate,y_predict,p_score\n",
    "\n"
   ]
  },
  {
   "cell_type": "code",
   "execution_count": 25,
   "metadata": {},
   "outputs": [
    {
     "name": "stdout",
     "output_type": "stream",
     "text": [
      "分类准确率：0.978000\n"
     ]
    }
   ],
   "source": [
    "error_rate,y_predict,p_score=bayes_classificate(type_data,test_len,data_num)"
   ]
  },
  {
   "cell_type": "markdown",
   "metadata": {},
   "source": [
    "# 中级要求\n",
    "\n",
    "### 使用测试集评估模型，得到混淆矩阵，精度，召回率，F值。"
   ]
  },
  {
   "cell_type": "code",
   "execution_count": 26,
   "metadata": {},
   "outputs": [],
   "source": [
    "# y_predict为3×n类型\n",
    "def evaluate_model(y_predict):\n",
    "    x=np.zeros((3,3))\n",
    "    # confusion_matrix=np.mat(x)\n",
    "    # test_num = sum([len(y_predict[i]) for i in range(3)])\n",
    "    wrong_num=0\n",
    "    precition=[]\n",
    "    recall=[]\n",
    "    for i in range(3):\n",
    "        for pre in y_predict[i]:\n",
    "            x[i][pre]+=1\n",
    "            if(pre!=i):\n",
    "                wrong_num+=1\n",
    "    for i in range(x.shape[0]):\n",
    "        precition.append(round(x[i][i]/sum([x[j][i] for j in range(x.shape[0])]),3))\n",
    "        recall.append(round(x[i][i]/sum([x[i][j] for j in range(x.shape[1])]),3))\n",
    "    P=np.mean(precition)\n",
    "    R=np.mean(recall)\n",
    "    F1=2*P*R/(P+R)\n",
    "    confusion_matrix=np.mat(x)\n",
    "    print(\"混淆矩阵为：\",confusion_matrix)\n",
    "    print(\"精度为 {:f},召回率为 {:f},F值为 {:f}\".format(P,R,F1))\n",
    "    return confusion_matrix,P,R,F1\n",
    "    "
   ]
  },
  {
   "cell_type": "code",
   "execution_count": 27,
   "metadata": {},
   "outputs": [
    {
     "name": "stdout",
     "output_type": "stream",
     "text": [
      "混淆矩阵为： [[15.  0.  0.]\n",
      " [ 0. 18.  0.]\n",
      " [ 0.  1. 11.]]\n",
      "精度为 0.982333,召回率为 0.972333,F值为 0.977308\n"
     ]
    },
    {
     "data": {
      "text/plain": [
       "(matrix([[15.,  0.,  0.],\n",
       "         [ 0., 18.,  0.],\n",
       "         [ 0.,  1., 11.]]),\n",
       " 0.9823333333333334,\n",
       " 0.9723333333333333,\n",
       " 0.9773077535243292)"
      ]
     },
     "execution_count": 27,
     "metadata": {},
     "output_type": "execute_result"
    }
   ],
   "source": [
    "evaluate_model(y_predict)"
   ]
  },
  {
   "cell_type": "markdown",
   "metadata": {},
   "source": [
    "# 高级要求\n",
    "### 在中级要求的基础上画出三类数据的ROC曲线，并求出AUC值\n"
   ]
  },
  {
   "cell_type": "code",
   "execution_count": 28,
   "metadata": {},
   "outputs": [],
   "source": [
    "# 把p_score做归一化\n",
    "def normalization(score):\n",
    "    for i in range(3):\n",
    "        max_v=max(score[i])\n",
    "        min_v=min(score[i])\n",
    "        distance=max_v-min_v\n",
    "        # print(max_v)\n",
    "        for j in range(len(score[i])):\n",
    "            score[i][j]=(score[i][j]-min_v)/distance\n",
    "    return score\n",
    "\n"
   ]
  },
  {
   "cell_type": "code",
   "execution_count": 29,
   "metadata": {},
   "outputs": [],
   "source": [
    "# p_score 是预测概率，levels是阈值，data_len存每类数据的数目，返回点对\n",
    "def ROC_AUC(p_score,levels,data_len):\n",
    "    p_score=normalization(p_score)\n",
    "    x=[[],[],[]]\n",
    "    y=[[],[],[]]\n",
    "    \n",
    "    for i in range(3):\n",
    "        true_num=data_len[i]\n",
    "        false_num=sum(data_len)-true_num\n",
    "        start=0\n",
    "        end=start+data_len[i]\n",
    "        if i!=0:\n",
    "            start=sum(data_len[j] for j in range(i))\n",
    "            end=start+data_len[i]\n",
    "        # true_p=[]\n",
    "        false_p=[]\n",
    "        true_p=p_score[i][start:end]\n",
    "        for j in range(sum(data_len)):\n",
    "            if j not in range(start,end):\n",
    "                false_p.append(p_score[i][j]) \n",
    "        \n",
    "\n",
    "        for level in levels:\n",
    "            # print(\"true_p\")\n",
    "            tempy=sum(value>level for value in true_p)\n",
    "            tempx=sum(value>level for value in false_p)\n",
    "            # print(\"tempx\",tempx)\n",
    "            # print(\"tempy\",tempy)\n",
    "            tempx/=false_num\n",
    "            tempy/=true_num\n",
    "            x[i].append(tempx)\n",
    "            y[i].append(tempy)\n",
    "    return x,y\n",
    " "
   ]
  },
  {
   "cell_type": "code",
   "execution_count": 30,
   "metadata": {},
   "outputs": [
    {
     "data": {
      "image/png": "[encoded data removed]",
      "text/plain": [
       "<Figure size 800x600 with 1 Axes>"
      ]
     },
     "metadata": {},
     "output_type": "display_data"
    },
    {
     "data": {
      "image/png": "[encoded data removed]",
      "text/plain": [
       "<Figure size 800x600 with 1 Axes>"
      ]
     },
     "metadata": {},
     "output_type": "display_data"
    },
    {
     "data": {
      "image/png": "[encoded data removed]",
      "text/plain": [
       "<Figure size 800x600 with 1 Axes>"
      ]
     },
     "metadata": {},
     "output_type": "display_data"
    }
   ],
   "source": [
    "import matplotlib.pyplot as plt\n",
    "levels=np.linspace(1,0,20)\n",
    "x,y=ROC_AUC(p_score,levels,test_len)\n",
    "# 绘制图形\n",
    "for i in range(3):\n",
    "    # 解决中文显示问题\n",
    "    plt.rcParams['font.sans-serif'] = ['SimHei']\n",
    "    plt.rcParams['axes.unicode_minus'] = False\n",
    "\n",
    "    plt.figure(figsize=(8,6))  # 定义图的大小\n",
    "    plt.xlabel(\"FPR\")     # X轴标签\n",
    "    plt.ylabel(\"TPR\")        # Y轴坐标标签\n",
    "    plt.title(\"第{:d}类数据ROC曲线\".format(i+1))      #  曲线图的标题\n",
    "    plt.plot(x[i],y[i])            # 绘制曲线图\n",
    "    plt.text(0.8,0.1,\"AUC值为{:f}\".format(np.trapz(y[i], x[i], dx = 0.05)))\n",
    "    #在ipython的交互环境中需要这句话才能显示出来\n",
    "    plt.show()\n",
    "# 计算AUC值，也即曲线积分\n"
   ]
  }
 ],
 "metadata": {
  "kernelspec": {
   "display_name": "Python 3 (ipykernel)",
   "language": "python",
   "name": "python3"
  },
  "language_info": {
   "codemirror_mode": {
    "name": "ipython",
    "version": 3
   },
   "file_extension": ".py",
   "mimetype": "text/x-python",
   "name": "python",
   "nbconvert_exporter": "python",
   "pygments_lexer": "ipython3",
   "version": "3.10.4"
  },
  "vscode": {
   "interpreter": {
    "hash": "865d8b2eb28e274047ba64063dfb6a2aabf0dfec4905d304d7a76618dae6fdd4"
   }
  }
 },
 "nbformat": 4,
 "nbformat_minor": 4
}
