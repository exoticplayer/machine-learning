{
 "cells": [
  {
   "cell_type": "markdown",
   "metadata": {},
   "source": [
    "# 机器学习作业一\n",
    "- 姓名：高祎珂\n",
    "- 学号：2011743\n",
    "- 专业：计算机科学与技术"
   ]
  },
  {
   "cell_type": "markdown",
   "metadata": {},
   "source": [
    "### 实验要求\n",
    "题目：基于KNN 的手写数字识别\n",
    "实验条件：给定semeion手写数字数据集，给定kNN分类算法\n",
    "实验要求：\n",
    "1. 基本要求：编程实现kNN算法；给出在不同k值（1，3，5）情况下，kNN算法对手写数字的识别精度（要求采用留一法）\n",
    "2. 中级要求：与weka机器学习包中的kNN分类结果进行对比\n",
    "3. 提高要求：将实验过程结果等图示展出\n",
    "\n",
    "**截止日期：10月7日**\n",
    "- 以.ipynb形式的文件提交，输出运行结果，并确保自己的代码能够正确运行\n",
    "- 发送到邮箱：2120220594@mail.nankai.edu.cn"
   ]
  },
  {
   "cell_type": "markdown",
   "metadata": {},
   "source": [
    "### 导入需要的包"
   ]
  },
  {
   "cell_type": "code",
   "execution_count": 1,
   "metadata": {},
   "outputs": [],
   "source": [
    "import numpy as np\n",
    "import operator\n",
    "from collections import Counter\n",
    "from sklearn.model_selection import train_test_split,cross_val_score\n",
    "from sklearn.model_selection import LeaveOneOut\n",
    "from sklearn.neighbors import KNeighborsClassifier\n",
    "from tqdm import tqdm\n",
    "import matplotlib.pyplot as plt\n",
    "import time"
   ]
  },
  {
   "cell_type": "markdown",
   "metadata": {},
   "source": [
    "### 导入数据集 semesion"
   ]
  },
  {
   "cell_type": "code",
   "execution_count": 2,
   "metadata": {},
   "outputs": [],
   "source": [
    "# 导入数据\n",
    "def Img2Mat(fileName):\n",
    "    f = open(fileName)\n",
    "    ss = f.readlines()\n",
    "    l = len(ss)\n",
    "    f.close()\n",
    "    returnMat = np.zeros((l,256))\n",
    "    returnClassVector = np.zeros((l,1))\n",
    "    for i in range(l):\n",
    "        s1 = ss[i].split()\n",
    "        for j in range(256):\n",
    "            returnMat[i][j] = np.float(s1[j])\n",
    "        clCount = 0\n",
    "        for j in range(256,266):\n",
    "            if s1[j] != '1':\n",
    "                clCount += 1\n",
    "            else:\n",
    "                break\n",
    "        returnClassVector[i] = clCount\n",
    "    return returnMat,returnClassVector"
   ]
  },
  {
   "cell_type": "code",
   "execution_count": 3,
   "metadata": {},
   "outputs": [
    {
     "name": "stderr",
     "output_type": "stream",
     "text": [
      "C:\\Users\\26937\\AppData\\Local\\Temp/ipykernel_21020/1310231474.py:12: DeprecationWarning: `np.float` is a deprecated alias for the builtin `float`. To silence this warning, use `float` by itself. Doing this will not modify any behavior and is safe. If you specifically wanted the numpy scalar type, use `np.float64` here.\n",
      "Deprecated in NumPy 1.20; for more details and guidance: https://numpy.org/devdocs/release/1.20.0-notes.html#deprecations\n",
      "  returnMat[i][j] = np.float(s1[j])\n"
     ]
    }
   ],
   "source": [
    "import pandas as pd\n",
    "\n",
    "X,y = Img2Mat('semeion.data')\n",
    "\n"
   ]
  },
  {
   "cell_type": "code",
   "execution_count": 4,
   "metadata": {},
   "outputs": [
    {
     "data": {
      "text/plain": [
       "1593"
      ]
     },
     "execution_count": 4,
     "metadata": {},
     "output_type": "execute_result"
    }
   ],
   "source": [
    "data=[]\n",
    "for i in range(len(X)):\n",
    "    datain=X[i].tolist()\n",
    "    datain.append(y[i].tolist()[0])\n",
    "    data.append(datain)\n",
    "\n",
    "len(data)"
   ]
  },
  {
   "cell_type": "code",
   "execution_count": 5,
   "metadata": {},
   "outputs": [],
   "source": [
    "data=np.array(data)\n",
    "data=pd.DataFrame(data)"
   ]
  },
  {
   "cell_type": "code",
   "execution_count": 6,
   "metadata": {},
   "outputs": [],
   "source": [
    "data.to_csv('semeion.csv')"
   ]
  },
  {
   "cell_type": "code",
   "execution_count": 7,
   "metadata": {},
   "outputs": [
    {
     "name": "stderr",
     "output_type": "stream",
     "text": [
      "C:\\Users\\26937\\AppData\\Local\\Temp/ipykernel_21020/1310231474.py:12: DeprecationWarning: `np.float` is a deprecated alias for the builtin `float`. To silence this warning, use `float` by itself. Doing this will not modify any behavior and is safe. If you specifically wanted the numpy scalar type, use `np.float64` here.\n",
      "Deprecated in NumPy 1.20; for more details and guidance: https://numpy.org/devdocs/release/1.20.0-notes.html#deprecations\n",
      "  returnMat[i][j] = np.float(s1[j])\n"
     ]
    },
    {
     "data": {
      "text/plain": [
       "((1593, 256), (1593, 1))"
      ]
     },
     "execution_count": 7,
     "metadata": {},
     "output_type": "execute_result"
    }
   ],
   "source": [
    "X,y = Img2Mat('semeion.data')\n",
    "np.shape(X), np.shape(y)\n",
    "# len(X)"
   ]
  },
  {
   "cell_type": "code",
   "execution_count": 8,
   "metadata": {},
   "outputs": [
    {
     "name": "stdout",
     "output_type": "stream",
     "text": [
      "[[0. 0. 0. ... 0. 0. 0.]\n",
      " [0. 0. 0. ... 0. 0. 0.]\n",
      " [0. 0. 0. ... 0. 0. 0.]\n",
      " ...\n",
      " [0. 0. 1. ... 0. 0. 0.]\n",
      " [0. 1. 1. ... 0. 0. 0.]\n",
      " [0. 0. 0. ... 0. 0. 0.]]\n"
     ]
    }
   ],
   "source": [
    "print(X)"
   ]
  },
  {
   "cell_type": "markdown",
   "metadata": {},
   "source": [
    "### 基本要求\n",
    "编程实现kNN算法；给出不同k值（1，3，5）情况下，kNN算法对手写数字的识别精度（模板中采用的是普通方法分割训练集和测试集，作业中需要用留一法）"
   ]
  },
  {
   "cell_type": "code",
   "execution_count": 9,
   "metadata": {},
   "outputs": [],
   "source": [
    "# KNN算法手动实现\n",
    "def MyKnnClassifier(data_X, data_y, neighbors):\n",
    "    acc = 0   # 计算准确率\n",
    "    # 生成数据集和测试集\n",
    "    for i in range(len(data_X)):\n",
    "        # X_train, X_test, y_train, y_test = train_test_split(data_X, data_y, test_size=1/len(data_X))\n",
    "        X_train=np.delete(data_X,i,0)\n",
    "        y_train=np.delete(data_y,i,0)\n",
    "        X_test=data_X[i]\n",
    "        y_test=data_y[i]\n",
    "        trainShape = X_train.shape[0]   # 获得训练集的大小\n",
    "        testShape = 1    # 获得测试集的大小\n",
    "        # testRes = []  # 存放测试结果\n",
    "        # 差异矩阵 = 该样本与训练集中所有样本之差构成的矩阵\n",
    "        testDiffMat = np.tile(X_test,(trainShape , 1)) - X_train\n",
    "        sqTestDiffMat = testDiffMat ** 2    # 将差异矩阵平方\n",
    "        # 方差距离为方差矩阵的整行求和，是一个一位列向量\n",
    "        sqTestDiffDis = sqTestDiffMat.sum(axis=1)\n",
    "        testDiffDis = sqTestDiffDis ** 0.5  # 开方生成标准差距离\n",
    "        sortIndex = np.argsort(testDiffDis)   # 将标准差距离按照下标排序\n",
    "        labelCount = []\n",
    "        for j in range(neighbors):  # 考察k近邻属于哪些类\n",
    "            labelCount.append(y_train[sortIndex[j]][0])\n",
    "        classifyRes = Counter(labelCount)    # 把k近邻中最多的那个标签作为分类结果\n",
    "        classifyRes = classifyRes.most_common(2)[0][0]\n",
    "        # testRes.append(classifyRes)\n",
    "        if classifyRes == y_test:  # 分类正确则将accRate+1\n",
    "            acc += 1\n",
    "    accRate = acc / data_X.shape[0]\n",
    "    # print(X_test)\n",
    "    print('k={0}时,  测试集数量:{1} 训练集数量:{2},正确个数为{3},准确率为：{4}'.format(neighbors,testShape,trainShape,acc,accRate))\n",
    "    return accRate"
   ]
  },
  {
   "cell_type": "markdown",
   "metadata": {},
   "source": [
    "实验结果："
   ]
  },
  {
   "cell_type": "code",
   "execution_count": 10,
   "metadata": {},
   "outputs": [
    {
     "name": "stdout",
     "output_type": "stream",
     "text": [
      "k=1时,  测试集数量:1 训练集数量:1592,正确个数为1459,准确率为：0.9158819836785939\n",
      "k=3时,  测试集数量:1 训练集数量:1592,正确个数为1464,准确率为：0.9190207156308852\n",
      "k=5时,  测试集数量:1 训练集数量:1592,正确个数为1458,准确率为：0.9152542372881356\n"
     ]
    },
    {
     "data": {
      "text/plain": [
       "0.9152542372881356"
      ]
     },
     "execution_count": 10,
     "metadata": {},
     "output_type": "execute_result"
    }
   ],
   "source": [
    "MyKnnClassifier(X, y, 1)\n",
    "MyKnnClassifier(X, y, 3)\n",
    "MyKnnClassifier(X, y, 5)"
   ]
  },
  {
   "cell_type": "markdown",
   "metadata": {},
   "source": [
    "### 中级要求\n",
    "模板中与sklearn机器学习包中的kNN分类结果进行对比（作业中需要与weka机器学习包中的kNN分类结果进行对比）"
   ]
  },
  {
   "cell_type": "code",
   "execution_count": 11,
   "metadata": {},
   "outputs": [],
   "source": [
    "# kNN算法sklearn库实现\n",
    "def KnnClassifier(data_X, data_y, neighbors, flag=0):\n",
    "    X_train, X_test, y_train, y_test = train_test_split(data_X, data_y, test_size=0.2)\n",
    "    knn = KNeighborsClassifier(n_neighbors=neighbors)\n",
    "    knn.fit(X_train, y_train.ravel())\n",
    "    print('k={0}时，scikit-learn训练手写体识别的准确率为：{1}'.format(neighbors,knn.score(X_test, y_test)))\n",
    "    # 交叉验证\n",
    "    if flag == 1:\n",
    "        scores = cross_val_score(knn,data_X,data_y.ravel(),cv=10,scoring='accuracy')\n",
    "        return scores.mean()"
   ]
  },
  {
   "cell_type": "markdown",
   "metadata": {},
   "source": [
    "实验结果："
   ]
  },
  {
   "cell_type": "code",
   "execution_count": 12,
   "metadata": {},
   "outputs": [
    {
     "name": "stdout",
     "output_type": "stream",
     "text": [
      "k=1时，scikit-learn训练手写体识别的准确率为：0.9059561128526645\n",
      "k=3时，scikit-learn训练手写体识别的准确率为：0.896551724137931\n",
      "k=5时，scikit-learn训练手写体识别的准确率为：0.8996865203761756\n"
     ]
    }
   ],
   "source": [
    "KnnClassifier(X, y, 1)\n",
    "KnnClassifier(X, y, 3)\n",
    "KnnClassifier(X, y, 5)"
   ]
  },
  {
   "cell_type": "markdown",
   "metadata": {},
   "source": [
    "### 高级要求\n",
    "将实验过程结果等图示展出"
   ]
  },
  {
   "cell_type": "code",
   "execution_count": 13,
   "metadata": {},
   "outputs": [
    {
     "name": "stdout",
     "output_type": "stream",
     "text": [
      "k=1时,  测试集数量:1 训练集数量:1592,正确个数为1459,准确率为：0.9158819836785939\n",
      "k=3时,  测试集数量:1 训练集数量:1592,正确个数为1464,准确率为：0.9190207156308852\n",
      "k=5时,  测试集数量:1 训练集数量:1592,正确个数为1458,准确率为：0.9152542372881356\n",
      "k=7时,  测试集数量:1 训练集数量:1592,正确个数为1469,准确率为：0.9221594475831764\n",
      "k=10时,  测试集数量:1 训练集数量:1592,正确个数为1465,准确率为：0.9196484620213434\n",
      "k=12时,  测试集数量:1 训练集数量:1592,正确个数为1460,准确率为：0.9165097300690521\n",
      "k=15时,  测试集数量:1 训练集数量:1592,正确个数为1446,准确率为：0.9077212806026366\n",
      "k=17时,  测试集数量:1 训练集数量:1592,正确个数为1442,准确率为：0.9052102950408035\n",
      "k=20时,  测试集数量:1 训练集数量:1592,正确个数为1435,准确率为：0.9008160703075957\n"
     ]
    }
   ],
   "source": [
    "scores1 = []\n",
    "# scores2 = []\n",
    "k_value=[1,3,5,7,10,12,15,17,20]\n",
    "for k in k_value:\n",
    "    score1 = MyKnnClassifier(X, y, k)\n",
    "    scores1.append(score1)\n",
    "    \n",
    "# for k in range(1,30):\n",
    "#     score2 = KnnClassifier(X, y, k, 1)\n",
    "#     scores2.append(score2)"
   ]
  },
  {
   "cell_type": "markdown",
   "metadata": {},
   "source": [
    "考虑到运行时间的问题，这里的交叉验证采用10折交叉验证，把weka中的部分设置以及运行结果如下，显示导入数据集，先把数据读入到csv文件里，然后导出成arff文件，将arff文件读入给weka处理，此时读入数据要注意，需要把最后一列数据标记为label,这样weka在训练时才会正确识别\n",
    "![测试](./7.jpg)\n",
    "<!-- %%HTML\n",
    "<img src=\"./1.png\", width=3, heigth=2> -->"
   ]
  },
  {
   "cell_type": "markdown",
   "metadata": {},
   "source": [
    "下面几张图展示了在训练过程中我设置的近邻k参数，在这个过程中，我的交叉验证一直是10折，这几个数据依次是k=1，3，5\n",
    "![测试](./1.jpg)\n",
    "![测试](./2.jpg)\n",
    "![测试](./3.jpg)\n",
    "![测试](./4.jpg)\n",
    "![测试](./5.jpg)"
   ]
  },
  {
   "cell_type": "markdown",
   "metadata": {},
   "source": [
    "对图表的一些文字说明..."
   ]
  },
  {
   "cell_type": "code",
   "execution_count": 14,
   "metadata": {},
   "outputs": [
    {
     "data": {
      "image/png": "[encoded data removed]",
      "text/plain": [
       "<Figure size 432x288 with 1 Axes>"
      ]
     },
     "metadata": {
      "needs_background": "light"
     },
     "output_type": "display_data"
    }
   ],
   "source": [
    "\n",
    "plt.xlabel('k value:',fontsize=18)\n",
    "plt.ylabel('accuracy',fontsize=18)\n",
    "x_major_locator = plt.MultipleLocator(1)\n",
    "ax = plt.gca()\n",
    "ax.xaxis.set_major_locator(x_major_locator)\n",
    "plt.xlim(0, 20)\n",
    "plt.ylim(0.75, 1)\n",
    "# ,7,10,13,15,1\n",
    "# k_value=[1,3,5,7,10,12,15,17,20]\n",
    "scores2=[0.914,0.908,0.910,0.912,0.909,0.906,0.903,0.905,0.903]\n",
    "plt.plot(k_value,scores1,'r')\n",
    "plt.plot(k_value,scores2,'b')\n",
    "plt.show()"
   ]
  }
 ],
 "metadata": {
  "kernelspec": {
   "display_name": "Python 3.9.7 ('base')",
   "language": "python",
   "name": "python3"
  },
  "language_info": {
   "codemirror_mode": {
    "name": "ipython",
    "version": 3
   },
   "file_extension": ".py",
   "mimetype": "text/x-python",
   "name": "python",
   "nbconvert_exporter": "python",
   "pygments_lexer": "ipython3",
   "version": "3.9.7"
  },
  "vscode": {
   "interpreter": {
    "hash": "d8e1ea876934806d5ee93b7d75cbcef8afd78554b278b3a200735f8e6fd5446f"
   }
  }
 },
 "nbformat": 4,
 "nbformat_minor": 2
}
